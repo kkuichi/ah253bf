{
 "cells": [
  {
   "cell_type": "code",
   "execution_count": 1,
   "id": "initial_id",
   "metadata": {
    "ExecuteTime": {
     "end_time": "2025-05-20T14:27:22.747927Z",
     "start_time": "2025-05-20T14:27:17.890437Z"
    },
    "collapsed": true,
    "jupyter": {
     "outputs_hidden": true
    }
   },
   "outputs": [
    {
     "name": "stderr",
     "output_type": "stream",
     "text": [
      "/Users/annahavryliak/IdeaProjects/ZS2/pythonProject/.venv/lib/python3.12/site-packages/transformers/utils/generic.py:441: FutureWarning: `torch.utils._pytree._register_pytree_node` is deprecated. Please use `torch.utils._pytree.register_pytree_node` instead.\n",
      "  _torch_pytree._register_pytree_node(\n",
      "/Users/annahavryliak/IdeaProjects/ZS2/pythonProject/.venv/lib/python3.12/site-packages/transformers/utils/generic.py:309: FutureWarning: `torch.utils._pytree._register_pytree_node` is deprecated. Please use `torch.utils._pytree.register_pytree_node` instead.\n",
      "  _torch_pytree._register_pytree_node(\n"
     ]
    }
   ],
   "source": [
    "import torch\n",
    "from transformers import RobertaTokenizer, RobertaModel\n",
    "from torch.utils.data import DataLoader, Dataset\n",
    "import torch.nn as nn\n",
    "import torch.optim as optim\n",
    "from sklearn.preprocessing import LabelEncoder\n",
    "import pandas as pd\n",
    "import re"
   ]
  },
  {
   "cell_type": "code",
   "execution_count": 2,
   "id": "362c5121130253db",
   "metadata": {
    "ExecuteTime": {
     "end_time": "2025-05-20T14:27:23.966983Z",
     "start_time": "2025-05-20T14:27:23.738268Z"
    }
   },
   "outputs": [],
   "source": [
    "# Stiahnutie dataset\n",
    "train_data = pd.read_csv('data/train.csv')\n",
    "val_data = pd.read_csv('data/val.csv')\n",
    "\n",
    "def clean_text(text):\n",
    "    #Previesť text na malé písmená\n",
    "    text = text.lower()\n",
    "    \n",
    "    #Odstránenie adries URL\n",
    "    text = re.sub(r'http\\S+', '', text)\n",
    "    \n",
    "    #Odstránenie hashtagov (iba symbol „#“, text ponechajte)\n",
    "    text = re.sub(r'#', '', text)\n",
    "    \n",
    "    #Odstránenie špeciálnych znakov a čísel\n",
    "    text = ''.join(c for c in text if c.isalnum() or c.isspace())\n",
    "    \n",
    "    #Odstránenie zbytočných medzier\n",
    "    text = re.sub(r'\\s+', ' ', text).strip()\n",
    "    \n",
    "    return text\n",
    "\n",
    "train_data['cleaned_tweet'] = train_data['tweet'].apply(clean_text)\n",
    "val_data['cleaned_tweet'] = val_data['tweet'].apply(clean_text)"
   ]
  },
  {
   "cell_type": "code",
   "execution_count": 4,
   "id": "18ef4f954b9f5f20",
   "metadata": {
    "ExecuteTime": {
     "end_time": "2025-05-20T14:27:32.570898Z",
     "start_time": "2025-05-20T14:27:32.563114Z"
    }
   },
   "outputs": [],
   "source": [
    "#Vytvorenie triedy pre dátasety\n",
    "class TweetDataset(Dataset):\n",
    "    def __init__(self, data, tokenizer, max_len):\n",
    "        self.data = data\n",
    "        self.tokenizer = tokenizer\n",
    "        self.max_len = max_len\n",
    "\n",
    "    def __len__(self):\n",
    "        return len(self.data)\n",
    "\n",
    "    def __getitem__(self, idx):\n",
    "        tweet = self.data.iloc[idx]['cleaned_tweet']\n",
    "        label = self.data.iloc[idx]['label']\n",
    "        \n",
    "        encoding = self.tokenizer(\n",
    "            tweet,\n",
    "            max_length=self.max_len,\n",
    "            padding='max_length',\n",
    "            truncation=True,\n",
    "            return_tensors='pt'\n",
    "        )\n",
    "        \n",
    "        return {\n",
    "            'input_ids': encoding['input_ids'].flatten(),\n",
    "            'attention_mask': encoding['attention_mask'].flatten(),\n",
    "            'labels': torch.tensor(label, dtype=torch.long)\n",
    "        }"
   ]
  },
  {
   "cell_type": "code",
   "execution_count": 5,
   "id": "1b9142df26b2d8ad",
   "metadata": {
    "ExecuteTime": {
     "end_time": "2025-05-20T14:27:37.997671Z",
     "start_time": "2025-05-20T14:27:35.019364Z"
    }
   },
   "outputs": [
    {
     "name": "stderr",
     "output_type": "stream",
     "text": [
      "/Users/annahavryliak/IdeaProjects/ZS2/pythonProject/.venv/lib/python3.12/site-packages/huggingface_hub/file_download.py:896: FutureWarning: `resume_download` is deprecated and will be removed in version 1.0.0. Downloads always resume when possible. If you want to force a new download, use `force_download=True`.\n",
      "  warnings.warn(\n",
      "Some weights of RobertaModel were not initialized from the model checkpoint at roberta-base and are newly initialized: ['roberta.pooler.dense.bias', 'roberta.pooler.dense.weight']\n",
      "You should probably TRAIN this model on a down-stream task to be able to use it for predictions and inference.\n"
     ]
    }
   ],
   "source": [
    "#Stiahnutie tokenizéra a základného modelu RoBERT\n",
    "tokenizer = RobertaTokenizer.from_pretrained('roberta-base')\n",
    "model = RobertaModel.from_pretrained('roberta-base')"
   ]
  },
  {
   "cell_type": "code",
   "execution_count": 6,
   "id": "94626aa847ed8d6f",
   "metadata": {
    "ExecuteTime": {
     "end_time": "2025-05-20T14:27:39.116549Z",
     "start_time": "2025-05-20T14:27:39.111837Z"
    }
   },
   "outputs": [],
   "source": [
    "#Definovanie triedy pre klasifikátor modelu\n",
    "class RobertaClassifier(nn.Module):\n",
    "    def __init__(self, model, num_classes=2):\n",
    "        super(RobertaClassifier, self).__init__()\n",
    "        self.roberta = model\n",
    "        self.dropout = nn.Dropout(0.1)\n",
    "        self.classifier = nn.Linear(model.config.hidden_size, num_classes)\n",
    "\n",
    "    def forward(self, input_ids, attention_mask):\n",
    "        outputs = self.roberta(input_ids=input_ids, attention_mask=attention_mask)\n",
    "        pooled_output = outputs.last_hidden_state[:, 0, :]  # [CLS] token\n",
    "        pooled_output = self.dropout(pooled_output)\n",
    "        logits = self.classifier(pooled_output)\n",
    "        return logits\n"
   ]
  },
  {
   "cell_type": "code",
   "execution_count": 7,
   "id": "1890c42d85733ae5",
   "metadata": {
    "ExecuteTime": {
     "end_time": "2025-05-20T14:27:41.228263Z",
     "start_time": "2025-05-20T14:27:41.221091Z"
    }
   },
   "outputs": [],
   "source": [
    "#Previesť label (real -> 0, fake -> 1)\n",
    "label_encoder = LabelEncoder()\n",
    "train_data['label'] = label_encoder.fit_transform(train_data['label'])\n",
    "val_data['label'] = label_encoder.transform(val_data['label'])"
   ]
  },
  {
   "cell_type": "code",
   "execution_count": 8,
   "id": "691be3635751f4b3",
   "metadata": {
    "ExecuteTime": {
     "end_time": "2025-05-20T14:27:44.273008Z",
     "start_time": "2025-05-20T14:27:44.264063Z"
    }
   },
   "outputs": [],
   "source": [
    "#Definovanie hyperparametrov\n",
    "MAX_LEN = 128\n",
    "BATCH_SIZE = 16\n",
    "\n",
    "#Vytváranie datasetov a súborov loadov\n",
    "train_dataset = TweetDataset(train_data, tokenizer, MAX_LEN)\n",
    "val_dataset = TweetDataset(val_data, tokenizer, MAX_LEN)\n",
    "\n",
    "train_loader = DataLoader(train_dataset, batch_size=BATCH_SIZE, shuffle=True)\n",
    "val_loader = DataLoader(val_dataset, batch_size=BATCH_SIZE)"
   ]
  },
  {
   "cell_type": "code",
   "execution_count": 9,
   "id": "bc10a36526dce464",
   "metadata": {
    "ExecuteTime": {
     "end_time": "2025-05-20T14:27:47.317602Z",
     "start_time": "2025-05-20T14:27:46.359102Z"
    }
   },
   "outputs": [],
   "source": [
    "#Definícia zariadenia\n",
    "device = torch.device('cuda' if torch.cuda.is_available() else 'cpu')\n",
    "model = RobertaClassifier(model).to(device)\n",
    "criterion = nn.CrossEntropyLoss()\n",
    "optimizer = optim.AdamW(model.parameters(), lr=2e-5)"
   ]
  },
  {
   "cell_type": "code",
   "execution_count": 10,
   "id": "3f78c05134c995fb",
   "metadata": {
    "ExecuteTime": {
     "end_time": "2025-05-20T14:27:48.544719Z",
     "start_time": "2025-05-20T14:27:48.541312Z"
    }
   },
   "outputs": [],
   "source": [
    "#Funkcia pre výpočet presnosti\n",
    "def calculate_accuracy(preds, labels):\n",
    "    return (preds.argmax(dim=1) == labels).float().mean()"
   ]
  },
  {
   "cell_type": "code",
   "execution_count": 12,
   "id": "63aeb8ddd727d475",
   "metadata": {
    "ExecuteTime": {
     "end_time": "2025-05-20T19:44:15.642160Z",
     "start_time": "2025-05-20T14:31:41.055681Z"
    }
   },
   "outputs": [
    {
     "name": "stdout",
     "output_type": "stream",
     "text": [
      "Epoch 1/10\n",
      "Train Loss: 0.2687, Train Accuracy: 0.8884\n",
      "Val Loss: 0.0126, Val Accuracy: 0.9960\n",
      "Epoch 2/10\n",
      "Train Loss: 0.1260, Train Accuracy: 0.9532\n",
      "Val Loss: 0.0126, Val Accuracy: 0.9960\n",
      "Epoch 3/10\n",
      "Train Loss: 0.0622, Train Accuracy: 0.9767\n",
      "Val Loss: 0.0126, Val Accuracy: 0.9960\n",
      "Epoch 4/10\n",
      "Train Loss: 0.0339, Train Accuracy: 0.9891\n",
      "Val Loss: 0.0126, Val Accuracy: 0.9960\n",
      "Epoch 5/10\n",
      "Train Loss: 0.0309, Train Accuracy: 0.9887\n",
      "Val Loss: 0.0126, Val Accuracy: 0.9960\n",
      "Epoch 6/10\n",
      "Train Loss: 0.0209, Train Accuracy: 0.9924\n",
      "Val Loss: 0.0126, Val Accuracy: 0.9960\n",
      "Epoch 7/10\n",
      "Train Loss: 0.0177, Train Accuracy: 0.9939\n",
      "Val Loss: 0.0126, Val Accuracy: 0.9960\n",
      "Epoch 8/10\n",
      "Train Loss: 0.0172, Train Accuracy: 0.9947\n",
      "Val Loss: 0.0126, Val Accuracy: 0.9960\n",
      "Epoch 9/10\n",
      "Train Loss: 0.0133, Train Accuracy: 0.9960\n",
      "Val Loss: 0.0126, Val Accuracy: 0.9960\n",
      "Epoch 10/10\n",
      "Train Loss: 0.0126, Train Accuracy: 0.9960\n",
      "Val Loss: 0.0126, Val Accuracy: 0.9960\n"
     ]
    }
   ],
   "source": [
    "#Definovanie epoch\n",
    "NUM_EPOCHS = 10\n",
    "\n",
    "#Školenie a validacia modelu\n",
    "for epoch in range(NUM_EPOCHS):\n",
    "    model.train()\n",
    "    train_loss, train_acc = 0, 0\n",
    "\n",
    "    for batch in train_loader:\n",
    "        input_ids = batch['input_ids'].to(device)\n",
    "        attention_mask = batch['attention_mask'].to(device)\n",
    "        labels = batch['labels'].to(device)\n",
    "\n",
    "        optimizer.zero_grad()\n",
    "        outputs = model(input_ids, attention_mask)\n",
    "        loss = criterion(outputs, labels)\n",
    "        loss.backward()\n",
    "        optimizer.step()\n",
    "\n",
    "        train_loss += loss.item()\n",
    "        train_acc += calculate_accuracy(outputs, labels).item()\n",
    "\n",
    "    train_loss /= len(train_loader)\n",
    "    train_acc /= len(train_loader)\n",
    "\n",
    "    model.eval()\n",
    "    val_loss, val_acc = 0, 0\n",
    "\n",
    "    with torch.no_grad():\n",
    "        for batch in val_loader:\n",
    "            input_ids = batch['input_ids'].to(device)\n",
    "            attention_mask = batch['attention_mask'].to(device)\n",
    "            labels = batch['labels'].to(device)\n",
    "\n",
    "            outputs = model(input_ids, attention_mask)\n",
    "            loss = criterion(outputs, labels)\n",
    "\n",
    "            val_loss += loss.item()\n",
    "            val_acc += calculate_accuracy(outputs, labels).item()\n",
    "\n",
    "    val_loss /= len(val_loader)\n",
    "    val_acc /= len(val_loader)\n",
    "\n",
    "    print(f\"Epoch {epoch + 1}/{NUM_EPOCHS}\")\n",
    "    print(f\"Train Loss: {train_loss:.4f}, Train Accuracy: {train_acc:.4f}\")\n",
    "    print(f\"Val Loss: {val_loss:.4f}, Val Accuracy: {val_acc:.4f}\")"
   ]
  },
  {
   "cell_type": "code",
   "execution_count": 15,
   "id": "5f296df7eeb07b47",
   "metadata": {
    "ExecuteTime": {
     "end_time": "2025-04-02T19:02:29.583646Z",
     "start_time": "2025-04-02T19:02:28.319815Z"
    }
   },
   "outputs": [],
   "source": [
    "#Uloženie modelu\n",
    "torch.save(model.state_dict(), 'robert_model.pth')"
   ]
  }
 ],
 "metadata": {
  "kernelspec": {
   "display_name": "Python 3 (ipykernel)",
   "language": "python",
   "name": "python3"
  },
  "language_info": {
   "codemirror_mode": {
    "name": "ipython",
    "version": 3
   },
   "file_extension": ".py",
   "mimetype": "text/x-python",
   "name": "python",
   "nbconvert_exporter": "python",
   "pygments_lexer": "ipython3",
   "version": "3.12.10"
  }
 },
 "nbformat": 4,
 "nbformat_minor": 5
}
