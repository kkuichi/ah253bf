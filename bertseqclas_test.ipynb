{
 "cells": [
  {
   "cell_type": "code",
   "execution_count": 1,
   "id": "27e4fb04dd264795",
   "metadata": {
    "ExecuteTime": {
     "end_time": "2025-05-26T11:52:34.673306Z",
     "start_time": "2025-05-26T11:52:29.024472Z"
    }
   },
   "outputs": [
    {
     "name": "stderr",
     "output_type": "stream",
     "text": [
      "/Users/annahavryliak/IdeaProjects/ZS2/pythonProject/.venv/lib/python3.12/site-packages/transformers/utils/generic.py:441: FutureWarning: `torch.utils._pytree._register_pytree_node` is deprecated. Please use `torch.utils._pytree.register_pytree_node` instead.\n",
      "  _torch_pytree._register_pytree_node(\n",
      "/Users/annahavryliak/IdeaProjects/ZS2/pythonProject/.venv/lib/python3.12/site-packages/transformers/utils/generic.py:309: FutureWarning: `torch.utils._pytree._register_pytree_node` is deprecated. Please use `torch.utils._pytree.register_pytree_node` instead.\n",
      "  _torch_pytree._register_pytree_node(\n"
     ]
    }
   ],
   "source": [
    "#Import knižníc\n",
    "import pandas as pd\n",
    "from transformers import BertTokenizer, BertForSequenceClassification, BertTokenizerFast, BertConfig\n",
    "import torch\n",
    "import re\n",
    "import matplotlib.pyplot as plt\n",
    "import seaborn as sns\n",
    "from sklearn.metrics import accuracy_score, precision_score, recall_score, f1_score, confusion_matrix"
   ]
  },
  {
   "cell_type": "code",
   "execution_count": 2,
   "id": "e0dd049a56ffb95f",
   "metadata": {
    "ExecuteTime": {
     "end_time": "2025-04-02T13:28:30.912068Z",
     "start_time": "2025-04-02T13:28:30.891422Z"
    }
   },
   "outputs": [],
   "source": [
    "#Nacitanie datasetu\n",
    "df = pd.read_csv('data/test.csv')"
   ]
  },
  {
   "cell_type": "code",
   "execution_count": 3,
   "id": "4d3f669ec20845f6",
   "metadata": {
    "ExecuteTime": {
     "end_time": "2025-04-02T13:28:31.833007Z",
     "start_time": "2025-04-02T13:28:31.824413Z"
    }
   },
   "outputs": [],
   "source": [
    "#Spracovanie datasetu\n",
    "def clean_text(text):\n",
    "    #Previesť text na malé písmená\n",
    "    text = text.lower()\n",
    "    \n",
    "    #Odstránenie adries URL\n",
    "    text = re.sub(r'http\\S+', '', text)\n",
    "    \n",
    "    #Odstránenie hashtagov (iba symbol „#“, text ponechajte)\n",
    "    text = re.sub(r'#', '', text)\n",
    "    \n",
    "    #Odstránenie špeciálnych znakov a čísel\n",
    "    text = ''.join(c for c in text if c.isalnum() or c.isspace())\n",
    "    \n",
    "    #Odstránenie zbytočných medzier\n",
    "    text = re.sub(r'\\s+', ' ', text).strip()\n",
    "    \n",
    "    return text"
   ]
  },
  {
   "cell_type": "code",
   "execution_count": 4,
   "id": "bfdfcd36526a43d7",
   "metadata": {
    "ExecuteTime": {
     "end_time": "2025-04-02T13:28:32.907882Z",
     "start_time": "2025-04-02T13:28:32.836102Z"
    }
   },
   "outputs": [],
   "source": [
    "#Zápis očistených údajov do nového stĺpca\n",
    "df['clear'] = df['tweet'].apply(clean_text)"
   ]
  },
  {
   "cell_type": "code",
   "execution_count": 5,
   "id": "93b51c205fd688b0",
   "metadata": {
    "ExecuteTime": {
     "end_time": "2025-04-02T13:28:34.225034Z",
     "start_time": "2025-04-02T13:28:33.928503Z"
    }
   },
   "outputs": [],
   "source": [
    "#Stiahnutie tokenizéra\n",
    "tokenizer = BertTokenizer.from_pretrained('bert-base-uncased')"
   ]
  },
  {
   "cell_type": "code",
   "execution_count": 6,
   "id": "807ed5ad823ca63",
   "metadata": {
    "ExecuteTime": {
     "end_time": "2025-04-02T13:28:35.157146Z",
     "start_time": "2025-04-02T13:28:35.140975Z"
    }
   },
   "outputs": [],
   "source": [
    "#Tokenizácia textu s obmedzením dĺžky\n",
    "def tokenize_text(text, tokenizer, max_length=128):\n",
    "    tokens = tokenizer.encode_plus(\n",
    "        text,\n",
    "        add_special_tokens=True,\n",
    "        max_length=max_length,\n",
    "        padding='max_length',\n",
    "        truncation=True,\n",
    "        return_attention_mask=True,\n",
    "        return_tensors='pt'\n",
    "    )\n",
    "    return tokens['input_ids'], tokens['attention_mask']"
   ]
  },
  {
   "cell_type": "code",
   "execution_count": 7,
   "id": "477e6198295b2e3f",
   "metadata": {
    "ExecuteTime": {
     "end_time": "2025-04-02T13:28:39.000197Z",
     "start_time": "2025-04-02T13:28:36.613307Z"
    }
   },
   "outputs": [],
   "source": [
    "#Vytvorenie nových stĺpcov pre tokeny\n",
    "df['input_ids'] = df['clear'].apply(lambda x: tokenize_text(x, tokenizer)[0])\n",
    "df['attention_mask'] = df['clear'].apply(lambda x: tokenize_text(x, tokenizer)[1])"
   ]
  },
  {
   "cell_type": "code",
   "execution_count": 8,
   "id": "46a845df2d1a2c16",
   "metadata": {
    "ExecuteTime": {
     "end_time": "2025-04-02T13:28:40.531666Z",
     "start_time": "2025-04-02T13:28:40.475207Z"
    }
   },
   "outputs": [],
   "source": [
    "#Stiahnutie modelu\n",
    "model_dir = 'bert_seq'\n",
    "\n",
    "#Stiahnutie tokenizéra\n",
    "tokenizer = BertTokenizerFast.from_pretrained(model_dir)\n",
    "\n",
    "#Stiahnutie konfigurácie modelu\n",
    "config_path = f\"{model_dir}/config.json\"\n",
    "model_config = {\n",
    "    \"vocab_size\": tokenizer.vocab_size,\n",
    "    \"hidden_size\": 768,\n",
    "    \"num_labels\": 2,\n",
    "}"
   ]
  },
  {
   "cell_type": "code",
   "execution_count": 9,
   "id": "2d3ef809aca23037",
   "metadata": {
    "ExecuteTime": {
     "end_time": "2025-04-02T13:28:47.322228Z",
     "start_time": "2025-04-02T13:28:47.313625Z"
    }
   },
   "outputs": [],
   "source": [
    "#Vytvorenie modelovej konfigurácie\n",
    "model_config = BertConfig(\n",
    "    vocab_size=tokenizer.vocab_size,\n",
    "    hidden_size=768,\n",
    "    num_labels=2\n",
    ")"
   ]
  },
  {
   "cell_type": "code",
   "execution_count": 10,
   "id": "8b0bb00fe9c0c4e1",
   "metadata": {
    "ExecuteTime": {
     "end_time": "2025-04-02T13:28:49.726290Z",
     "start_time": "2025-04-02T13:28:49.560627Z"
    }
   },
   "outputs": [],
   "source": [
    "#Nahratie modelu s konfiguráciou\n",
    "model = BertForSequenceClassification.from_pretrained(\n",
    "    model_dir,\n",
    "    config=model_config\n",
    ")"
   ]
  },
  {
   "cell_type": "code",
   "execution_count": 11,
   "id": "88621a3199092347",
   "metadata": {
    "ExecuteTime": {
     "end_time": "2025-04-02T13:28:50.799982Z",
     "start_time": "2025-04-02T13:28:50.763287Z"
    }
   },
   "outputs": [],
   "source": [
    "#Konverzia modelu do GPU, ak je k dispozícii\n",
    "device = torch.device(\"cuda\" if torch.cuda.is_available() else \"cpu\")\n",
    "model.to(device)\n",
    "model.eval()"
   ]
  },
  {
   "cell_type": "code",
   "execution_count": 12,
   "id": "9fe4f5a95decd54b",
   "metadata": {
    "ExecuteTime": {
     "end_time": "2025-04-02T13:29:04.766578Z",
     "start_time": "2025-04-02T13:29:04.755353Z"
    }
   },
   "outputs": [],
   "source": [
    "#Funkcia na predpovedanie triedy (fake/real) pomocou modelu\n",
    "def predict_post(input_ids, attention_mask, model, device):\n",
    "    #Kontrola, či input_ids a attention_mask sú tenzory\n",
    "    if not isinstance(input_ids, torch.Tensor):\n",
    "        input_ids = torch.tensor(input_ids)\n",
    "    if not isinstance(attention_mask, torch.Tensor):\n",
    "        attention_mask = torch.tensor(attention_mask)\n",
    "    \n",
    "    #Pridanie rozmeru banch, ak neexistuje\n",
    "    if len(input_ids.shape) == 1:\n",
    "        input_ids = input_ids.unsqueeze(0)\n",
    "    if len(attention_mask.shape) == 1:\n",
    "        attention_mask = attention_mask.unsqueeze(0)\n",
    "    \n",
    "    #Prenos dát do príslušného zariadenia (CPU/GPU)\n",
    "    input_ids = input_ids.to(device)\n",
    "    attention_mask = attention_mask.to(device)\n",
    "    \n",
    "    #Vyhovenie predikcii\n",
    "    with torch.no_grad():\n",
    "        outputs = model(input_ids, attention_mask=attention_mask)\n",
    "    \n",
    "    #Získanie predikcie triedy\n",
    "    logits = outputs.logits\n",
    "    predicted_class = torch.argmax(logits, dim=1).item()\n",
    "    \n",
    "    #Vrátenie výsledku (0 - fake, 1 - real)\n",
    "    return \"real\" if predicted_class == 0 else \"fake\""
   ]
  },
  {
   "cell_type": "code",
   "execution_count": 13,
   "id": "de57cc5a82b43d59",
   "metadata": {
    "ExecuteTime": {
     "end_time": "2025-04-02T13:29:06.858003Z",
     "start_time": "2025-04-02T13:29:06.848047Z"
    }
   },
   "outputs": [],
   "source": [
    "#Použitie modelu na každý post v datasete\n",
    "def analyze_posts(df, model, device):\n",
    "    #Vytvorenie nového stĺpca pre výsledky predikcie\n",
    "    df['prediction'] = df.apply(\n",
    "        lambda row: predict_post(row['input_ids'], row['attention_mask'], model, device), axis=1\n",
    "    )\n",
    "    return df"
   ]
  },
  {
   "cell_type": "code",
   "execution_count": 14,
   "id": "1cc8c6347450d5b6",
   "metadata": {
    "ExecuteTime": {
     "end_time": "2025-04-02T13:34:04.047756Z",
     "start_time": "2025-04-02T13:29:07.523509Z"
    }
   },
   "outputs": [],
   "source": [
    "#Vykonávanie následnej analýzy\n",
    "df = analyze_posts(df, model, device)"
   ]
  },
  {
   "cell_type": "code",
   "execution_count": 19,
   "id": "2b81d6b23e2939a0",
   "metadata": {
    "ExecuteTime": {
     "end_time": "2025-04-02T14:25:05.243620Z",
     "start_time": "2025-04-02T14:25:03.535449Z"
    }
   },
   "outputs": [],
   "source": [
    "#Ukladanie datasetu\n",
    "df.to_csv('data/test_seq.csv', index=False)"
   ]
  },
  {
   "cell_type": "code",
   "execution_count": 20,
   "id": "b9d90b1883b03326",
   "metadata": {
    "ExecuteTime": {
     "end_time": "2025-05-26T11:52:46.849805Z",
     "start_time": "2025-05-26T11:52:46.776550Z"
    }
   },
   "outputs": [],
   "source": [
    "#Nacitanie noveho datasetu\n",
    "df_test = pd.read_csv('data/test_seq.csv')"
   ]
  },
  {
   "cell_type": "code",
   "execution_count": 21,
   "id": "dc3d3a7c44cd5627",
   "metadata": {
    "ExecuteTime": {
     "end_time": "2025-05-26T11:52:47.736612Z",
     "start_time": "2025-05-26T11:52:47.728098Z"
    }
   },
   "outputs": [
    {
     "name": "stdout",
     "output_type": "stream",
     "text": [
      "Počet zápasov: 2041\n",
      "Počet nezhod: 99\n"
     ]
    }
   ],
   "source": [
    "#Porovnanie hodnôt v stĺpcoch\n",
    "df_test['result'] = df_test['label'] == df_test['prediction']\n",
    "\n",
    "#Počítanie počtu zhody a nezhody\n",
    "resulttrue = df_test['result'].sum()\n",
    "resultfalse = len(df_test)-resulttrue\n",
    "\n",
    "print(f\"Počet zápasov: {resulttrue}\")\n",
    "print(f\"Počet nezhod: {resultfalse}\")"
   ]
  },
  {
   "cell_type": "code",
   "execution_count": 22,
   "id": "c68d53c35ae7526a",
   "metadata": {
    "ExecuteTime": {
     "end_time": "2025-05-26T11:52:48.869750Z",
     "start_time": "2025-05-26T11:52:48.655092Z"
    }
   },
   "outputs": [
    {
     "data": {
      "image/png": "[encoded data removed]",
      "text/plain": [
       "<Figure size 600x400 with 1 Axes>"
      ]
     },
     "metadata": {},
     "output_type": "display_data"
    }
   ],
   "source": [
    "#Vizualizácia zhody a nezhody\n",
    "plt.figure(figsize=(6, 4))\n",
    "sns.countplot(x='result', data=df_test)\n",
    "plt.title('Zosúladenie a nezosúladenie')\n",
    "plt.xlabel('Zodpovedá to?')\n",
    "plt.ylabel('Množstvo')\n",
    "plt.xticks([0, 1], ['Nie', 'Ano'])\n",
    "plt.show()"
   ]
  },
  {
   "cell_type": "code",
   "execution_count": 24,
   "id": "a2c86c072c513e31",
   "metadata": {
    "ExecuteTime": {
     "end_time": "2025-05-26T11:52:50.490627Z",
     "start_time": "2025-05-26T11:52:50.437787Z"
    }
   },
   "outputs": [
    {
     "data": {
      "text/html": [
       "<div>\n",
       "<style scoped>\n",
       "    .dataframe tbody tr th:only-of-type {\n",
       "        vertical-align: middle;\n",
       "    }\n",
       "\n",
       "    .dataframe tbody tr th {\n",
       "        vertical-align: top;\n",
       "    }\n",
       "\n",
       "    .dataframe thead th {\n",
       "        text-align: right;\n",
       "    }\n",
       "</style>\n",
       "<table border=\"1\" class=\"dataframe\">\n",
       "  <thead>\n",
       "    <tr style=\"text-align: right;\">\n",
       "      <th></th>\n",
       "      <th>Metric</th>\n",
       "      <th>Value</th>\n",
       "    </tr>\n",
       "  </thead>\n",
       "  <tbody>\n",
       "    <tr>\n",
       "      <th>0</th>\n",
       "      <td>Accuracy</td>\n",
       "      <td>0.95</td>\n",
       "    </tr>\n",
       "    <tr>\n",
       "      <th>1</th>\n",
       "      <td>Precision</td>\n",
       "      <td>0.95</td>\n",
       "    </tr>\n",
       "    <tr>\n",
       "      <th>2</th>\n",
       "      <td>Recall</td>\n",
       "      <td>0.97</td>\n",
       "    </tr>\n",
       "    <tr>\n",
       "      <th>3</th>\n",
       "      <td>F1-Score</td>\n",
       "      <td>0.96</td>\n",
       "    </tr>\n",
       "  </tbody>\n",
       "</table>\n",
       "</div>"
      ],
      "text/plain": [
       "      Metric Value\n",
       "0   Accuracy  0.95\n",
       "1  Precision  0.95\n",
       "2     Recall  0.97\n",
       "3   F1-Score  0.96"
      ]
     },
     "execution_count": 23,
     "metadata": {},
     "output_type": "execute_result"
    }
   ],
   "source": [
    "#Výpočet kľúčových metrík\n",
    "accuracy = accuracy_score(df_test['label'], df_test['prediction'])\n",
    "precision = precision_score(df_test['label'], df_test['prediction'], pos_label='real')\n",
    "recall = recall_score(df_test['label'], df_test['prediction'], pos_label='real')\n",
    "f1 = f1_score(df_test['label'], df_test['prediction'], pos_label='real')\n",
    "\n",
    "#Vytvorenie DataFrame pre metriky\n",
    "metrics = pd.DataFrame({\n",
    "    'Metric': ['Accuracy', 'Precision', 'Recall', 'F1-Score'],\n",
    "    'Value': [f\"{accuracy:.2f}\", f\"{precision:.2f}\", f\"{recall:.2f}\", f\"{f1:.2f}\"]\n",
    "})\n",
    "metrics"
   ]
  },
  {
   "cell_type": "code",
   "execution_count": 26,
   "id": "a6f780aa96f03e81",
   "metadata": {
    "ExecuteTime": {
     "end_time": "2025-05-26T11:52:52.273895Z",
     "start_time": "2025-05-26T11:52:52.231173Z"
    }
   },
   "outputs": [
    {
     "data": {
      "text/html": [
       "<div>\n",
       "<style scoped>\n",
       "    .dataframe tbody tr th:only-of-type {\n",
       "        vertical-align: middle;\n",
       "    }\n",
       "\n",
       "    .dataframe tbody tr th {\n",
       "        vertical-align: top;\n",
       "    }\n",
       "\n",
       "    .dataframe thead th {\n",
       "        text-align: right;\n",
       "    }\n",
       "</style>\n",
       "<table border=\"1\" class=\"dataframe\">\n",
       "  <thead>\n",
       "    <tr style=\"text-align: right;\">\n",
       "      <th></th>\n",
       "      <th>Predicted Fake</th>\n",
       "      <th>Predicted Real</th>\n",
       "    </tr>\n",
       "  </thead>\n",
       "  <tbody>\n",
       "    <tr>\n",
       "      <th>True Fake</th>\n",
       "      <td>958</td>\n",
       "      <td>62</td>\n",
       "    </tr>\n",
       "    <tr>\n",
       "      <th>True Real</th>\n",
       "      <td>37</td>\n",
       "      <td>1083</td>\n",
       "    </tr>\n",
       "  </tbody>\n",
       "</table>\n",
       "</div>"
      ],
      "text/plain": [
       "           Predicted Fake  Predicted Real\n",
       "True Fake             958              62\n",
       "True Real              37            1083"
      ]
     },
     "execution_count": 25,
     "metadata": {},
     "output_type": "execute_result"
    }
   ],
   "source": [
    "conf_matrix = confusion_matrix(df_test['label'], df_test['prediction'], labels=['fake', 'real'])\n",
    "\n",
    "#Výstup confusion matrix\n",
    "conf_matrix = pd.DataFrame(\n",
    "    conf_matrix,\n",
    "    index=['True Fake', 'True Real'],\n",
    "    columns=['Predicted Fake', 'Predicted Real']\n",
    ")\n",
    "conf_matrix"
   ]
  },
  {
   "cell_type": "code",
   "execution_count": 27,
   "id": "b66dc3a1720ef846",
   "metadata": {
    "ExecuteTime": {
     "end_time": "2025-05-26T11:52:53.749026Z",
     "start_time": "2025-05-26T11:52:53.622606Z"
    }
   },
   "outputs": [
    {
     "data": {
      "image/png": "[encoded data removed]",
      "text/plain": [
       "<Figure size 600x400 with 2 Axes>"
      ]
     },
     "metadata": {},
     "output_type": "display_data"
    }
   ],
   "source": [
    "#Vizualizacia confusion matrix\n",
    "plt.figure(figsize=(6, 4))\n",
    "sns.heatmap(conf_matrix, annot=True, fmt='d', cmap='Blues', xticklabels=['fake', 'real'], yticklabels=['fake', 'real'])\n",
    "plt.title('Confusion Matrix')\n",
    "plt.xlabel('Prediction')\n",
    "plt.ylabel('Label')\n",
    "plt.show()"
   ]
  }
 ],
 "metadata": {
  "kernelspec": {
   "display_name": "Python 3 (ipykernel)",
   "language": "python",
   "name": "python3"
  },
  "language_info": {
   "codemirror_mode": {
    "name": "ipython",
    "version": 3
   },
   "file_extension": ".py",
   "mimetype": "text/x-python",
   "name": "python",
   "nbconvert_exporter": "python",
   "pygments_lexer": "ipython3",
   "version": "3.12.10"
  }
 },
 "nbformat": 4,
 "nbformat_minor": 5
}
