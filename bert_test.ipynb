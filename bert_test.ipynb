{
 "cells": [
  {
   "cell_type": "code",
   "id": "initial_id",
   "metadata": {
    "collapsed": true,
    "ExecuteTime": {
     "end_time": "2025-05-21T10:34:12.652076Z",
     "start_time": "2025-05-21T10:34:10.123267Z"
    }
   },
   "source": [
    "#Import knižníc\n",
    "import pandas as pd\n",
    "import torch\n",
    "from transformers import BertTokenizer, BertModel\n",
    "from torch.utils.data import DataLoader, Dataset\n",
    "import re\n",
    "import matplotlib.pyplot as plt\n",
    "import seaborn as sns\n",
    "from sklearn.metrics import accuracy_score, precision_score, recall_score, f1_score, confusion_matrix"
   ],
   "outputs": [
    {
     "name": "stderr",
     "output_type": "stream",
     "text": [
      "/Users/annahavryliak/IdeaProjects/ZS2/pythonProject/.venv/lib/python3.12/site-packages/transformers/utils/generic.py:441: FutureWarning: `torch.utils._pytree._register_pytree_node` is deprecated. Please use `torch.utils._pytree.register_pytree_node` instead.\n",
      "  _torch_pytree._register_pytree_node(\n",
      "/Users/annahavryliak/IdeaProjects/ZS2/pythonProject/.venv/lib/python3.12/site-packages/transformers/utils/generic.py:309: FutureWarning: `torch.utils._pytree._register_pytree_node` is deprecated. Please use `torch.utils._pytree.register_pytree_node` instead.\n",
      "  _torch_pytree._register_pytree_node(\n"
     ]
    }
   ],
   "execution_count": 1
  },
  {
   "metadata": {
    "ExecuteTime": {
     "end_time": "2025-05-21T10:34:13.723838Z",
     "start_time": "2025-05-21T10:34:13.709766Z"
    }
   },
   "cell_type": "code",
   "source": [
    "#Nacitanie datasetu\n",
    "df = pd.read_csv('data/test.csv')"
   ],
   "id": "8d7b013d2937142d",
   "outputs": [],
   "execution_count": 2
  },
  {
   "metadata": {
    "ExecuteTime": {
     "end_time": "2025-05-21T10:34:14.602002Z",
     "start_time": "2025-05-21T10:34:14.593182Z"
    }
   },
   "cell_type": "code",
   "source": [
    "def clean_text(text):\n",
    "    #Previesť text na malé písmená\n",
    "    text = text.lower()\n",
    "    \n",
    "    #Odstránenie adries URL\n",
    "    text = re.sub(r'http\\S+', '', text)\n",
    "    \n",
    "    #Odstránenie hashtagov (iba symbol „#“, text ponechajte)\n",
    "    text = re.sub(r'#', '', text)\n",
    "    \n",
    "    #Odstránenie špeciálnych znakov a čísel\n",
    "    text = ''.join(c for c in text if c.isalnum() or c.isspace())\n",
    "    \n",
    "    #Odstránenie zbytočných medzier\n",
    "    text = re.sub(r'\\s+', ' ', text).strip()\n",
    "    \n",
    "    return text"
   ],
   "id": "4b009f26f6ca630",
   "outputs": [],
   "execution_count": 3
  },
  {
   "metadata": {
    "ExecuteTime": {
     "end_time": "2025-05-21T10:34:17.447907Z",
     "start_time": "2025-05-21T10:34:17.394444Z"
    }
   },
   "cell_type": "code",
   "source": [
    "#Zápis očistených údajov do nového stĺpca\n",
    "df['clearcontent'] = df['tweet'].apply(clean_text)"
   ],
   "id": "ee22c4080a0dc996",
   "outputs": [],
   "execution_count": 4
  },
  {
   "metadata": {
    "ExecuteTime": {
     "end_time": "2025-04-02T11:39:02.571026Z",
     "start_time": "2025-04-02T11:39:02.568719Z"
    }
   },
   "cell_type": "code",
   "source": [
    "#Definovanie hyperparametrov\n",
    "MAX_LEN = 128\n",
    "BATCH_SIZE = 16"
   ],
   "id": "64d1c98778f02651",
   "execution_count": 7,
   "outputs": []
  },
  {
   "metadata": {
    "ExecuteTime": {
     "end_time": "2025-04-02T11:39:03.651587Z",
     "start_time": "2025-04-02T11:39:03.290103Z"
    }
   },
   "cell_type": "code",
   "source": [
    "#Stiahnutie tokenizéra\n",
    "tokenizer = BertTokenizer.from_pretrained('bert-base-uncased')"
   ],
   "id": "6e19473fa27177e7",
   "execution_count": 8,
   "outputs": []
  },
  {
   "metadata": {
    "ExecuteTime": {
     "end_time": "2025-04-02T11:39:04.311404Z",
     "start_time": "2025-04-02T11:39:04.307569Z"
    }
   },
   "cell_type": "code",
   "source": [
    "#Vytvorenie triedy pre dátasety\n",
    "class PredictionDataset(Dataset):\n",
    "        def __init__(self, data, tokenizer, max_len):\n",
    "            self.data = data\n",
    "            self.tokenizer = tokenizer\n",
    "            self.max_len = max_len\n",
    "    \n",
    "        def __len__(self):\n",
    "            return len(self.data)\n",
    "    \n",
    "        def __getitem__(self, idx):\n",
    "            content = self.data.iloc[idx]['clearcontent']\n",
    "            \n",
    "            encoding = self.tokenizer.encode_plus(\n",
    "                content,\n",
    "                add_special_tokens=True,\n",
    "                max_length=self.max_len,\n",
    "                return_token_type_ids=False,\n",
    "                padding='max_length',\n",
    "                truncation=True,\n",
    "                return_attention_mask=True,\n",
    "                return_tensors='pt'\n",
    "            )\n",
    "    \n",
    "            return {\n",
    "                'content': content,\n",
    "                'input_ids': encoding['input_ids'].flatten(),\n",
    "                'attention_mask': encoding['attention_mask'].flatten()\n",
    "            }\n",
    "\n"
   ],
   "id": "36ecd0c2cf67f664",
   "execution_count": 9,
   "outputs": []
  },
  {
   "metadata": {
    "ExecuteTime": {
     "end_time": "2025-04-02T11:39:05.227491Z",
     "start_time": "2025-04-02T11:39:05.223712Z"
    }
   },
   "cell_type": "code",
   "source": [
    "#Vytváranie datasetov a súborov loadov\n",
    "prediction_dataset = PredictionDataset(df, tokenizer, MAX_LEN)\n",
    "prediction_loader = DataLoader(prediction_dataset, batch_size=BATCH_SIZE)"
   ],
   "id": "8322b94eadd3808a",
   "execution_count": 10,
   "outputs": []
  },
  {
   "metadata": {
    "ExecuteTime": {
     "end_time": "2025-04-02T11:39:06.012148Z",
     "start_time": "2025-04-02T11:39:06.008168Z"
    }
   },
   "cell_type": "code",
   "source": [
    "#Definícia zariadenia\n",
    "device = torch.device('cuda' if torch.cuda.is_available() else 'cpu')"
   ],
   "id": "8ed2ccfeb19cfc12",
   "execution_count": 11,
   "outputs": []
  },
  {
   "metadata": {
    "ExecuteTime": {
     "end_time": "2025-04-02T11:39:06.859414Z",
     "start_time": "2025-04-02T11:39:06.855292Z"
    }
   },
   "cell_type": "code",
   "source": [
    "#Stiahnutie modelu\n",
    "class BERTClassifier(torch.nn.Module):\n",
    "    def __init__(self, bert_model, dropout=0.3):\n",
    "        super(BERTClassifier, self).__init__()\n",
    "        self.bert = bert_model\n",
    "        self.dropout = torch.nn.Dropout(dropout)\n",
    "        self.linear = torch.nn.Linear(768, 2)\n",
    "\n",
    "    def forward(self, input_ids, attention_mask):\n",
    "        _, pooled_output = self.bert(\n",
    "            input_ids=input_ids,\n",
    "            attention_mask=attention_mask,\n",
    "            return_dict=False\n",
    "        )\n",
    "        dropout_output = self.dropout(pooled_output)\n",
    "        linear_output = self.linear(dropout_output)\n",
    "        return linear_output"
   ],
   "id": "e7ca42c2082e7866",
   "execution_count": 12,
   "outputs": []
  },
  {
   "metadata": {
    "ExecuteTime": {
     "end_time": "2025-04-02T11:39:08.346192Z",
     "start_time": "2025-04-02T11:39:07.962584Z"
    }
   },
   "cell_type": "code",
   "source": [
    "#Načítanie základného modelu BERT\n",
    "bert_model = BertModel.from_pretrained('bert-base-uncased')"
   ],
   "id": "15210af539a8a6ec",
   "execution_count": 13,
   "outputs": []
  },
  {
   "metadata": {
    "ExecuteTime": {
     "end_time": "2025-04-02T11:39:10.136638Z",
     "start_time": "2025-04-02T11:39:08.890317Z"
    }
   },
   "cell_type": "code",
   "source": [
    "#Inicializácia modelu\n",
    "model = BERTClassifier(bert_model)\n",
    "model.load_state_dict(torch.load('best_bert_model.pth'))\n",
    "model = model.to(device)"
   ],
   "id": "def8e2d093bc306c",
   "execution_count": 14,
   "outputs": []
  },
  {
   "metadata": {
    "ExecuteTime": {
     "end_time": "2025-04-02T11:39:10.715522Z",
     "start_time": "2025-04-02T11:39:10.711538Z"
    }
   },
   "cell_type": "code",
   "source": [
    "#Funkcia pre predikcie\n",
    "def predict(model, data_loader, device):\n",
    "    model.eval()\n",
    "    predictions = []\n",
    "\n",
    "    with torch.no_grad():\n",
    "        for batch in data_loader:\n",
    "            input_ids = batch['input_ids'].to(device)\n",
    "            attention_mask = batch['attention_mask'].to(device)\n",
    "\n",
    "            outputs = model(input_ids=input_ids, attention_mask=attention_mask)\n",
    "            _, preds = torch.max(outputs, dim=1)\n",
    "\n",
    "            predictions.extend(preds.cpu().numpy())\n",
    "\n",
    "    return predictions"
   ],
   "id": "417ce4b82db8f18b",
   "execution_count": 15,
   "outputs": []
  },
  {
   "metadata": {
    "ExecuteTime": {
     "end_time": "2025-04-02T11:42:34.798353Z",
     "start_time": "2025-04-02T11:39:11.815010Z"
    }
   },
   "cell_type": "code",
   "source": [
    "#Získavanie predpovedí\n",
    "predictions = predict(model, prediction_loader, device)"
   ],
   "id": "2e5c7fd64d036a91",
   "execution_count": 16,
   "outputs": []
  },
  {
   "metadata": {
    "ExecuteTime": {
     "end_time": "2025-04-02T11:52:40.540280Z",
     "start_time": "2025-04-02T11:52:40.524457Z"
    }
   },
   "cell_type": "code",
   "source": [
    "#Pridanie predpovedí do datasetu\n",
    "df['prediction'] = predictions"
   ],
   "id": "4f7ddbdc26b7cd3b",
   "execution_count": 34,
   "outputs": []
  },
  {
   "metadata": {
    "ExecuteTime": {
     "end_time": "2025-04-02T11:52:41.176816Z",
     "start_time": "2025-04-02T11:52:41.172992Z"
    }
   },
   "cell_type": "code",
   "source": [
    "#Nahradenie číselných hodnôt zrozumiteľnými popismi\n",
    "label_mapping = {0: 'fake', 1: 'real'}\n",
    "df['prediction'] = df['prediction'].map(label_mapping)"
   ],
   "id": "920772a754f514dc",
   "execution_count": 35,
   "outputs": []
  },
  {
   "metadata": {
    "ExecuteTime": {
     "end_time": "2025-04-02T11:52:46.636366Z",
     "start_time": "2025-04-02T11:52:46.603140Z"
    }
   },
   "cell_type": "code",
   "source": [
    "#Uloženie výsledkov do nového súboru CSV\n",
    "df.to_csv('data/test_bert.csv', index=False)"
   ],
   "id": "9946d4cf15936f38",
   "execution_count": 37,
   "outputs": []
  },
  {
   "metadata": {
    "ExecuteTime": {
     "end_time": "2025-05-21T10:36:45.909092Z",
     "start_time": "2025-05-21T10:36:45.890285Z"
    }
   },
   "cell_type": "code",
   "source": [
    "#Nacitanie datasetu\n",
    "df_test = pd.read_csv('data/test_bert.csv')"
   ],
   "id": "726c801cd89cb310",
   "outputs": [],
   "execution_count": 38
  },
  {
   "metadata": {
    "ExecuteTime": {
     "end_time": "2025-05-21T10:36:47.010300Z",
     "start_time": "2025-05-21T10:36:46.991013Z"
    }
   },
   "cell_type": "code",
   "source": [
    "#Porovnanie hodnôt v stĺpcoch\n",
    "df_test['result'] = df_test['label'] == df_test['prediction']\n",
    "\n",
    "#Počítanie počtu zhody a nezhody\n",
    "resulttrue = df_test['result'].sum()\n",
    "resultfalse = len(df_test)-resulttrue\n",
    "\n",
    "print(f\"Počet zápasov: {resulttrue}\")\n",
    "print(f\"Počet nezhod: {resultfalse}\")"
   ],
   "id": "1f71d32b2d80b156",
   "outputs": [
    {
     "name": "stdout",
     "output_type": "stream",
     "text": [
      "Počet zápasov: 2055\n",
      "Počet nezhod: 85\n"
     ]
    }
   ],
   "execution_count": 39
  },
  {
   "metadata": {
    "ExecuteTime": {
     "end_time": "2025-05-21T10:36:49.916804Z",
     "start_time": "2025-05-21T10:36:49.804226Z"
    }
   },
   "cell_type": "code",
   "source": [
    "#Vizualizacia počtu zhody a nezhody\n",
    "plt.figure(figsize=(6, 4))\n",
    "sns.countplot(x='result', data=df_test)\n",
    "plt.title('Zosúladenie a nezosúladenie')\n",
    "plt.xlabel('Zodpovedá to?')\n",
    "plt.ylabel('Množstvo')\n",
    "plt.xticks([0, 1], ['Nie', 'Ano'])\n",
    "plt.show()"
   ],
   "id": "ef407d58aaab9fba",
   "outputs": [
    {
     "data": {
      "text/plain": [
       "<Figure size 600x400 with 1 Axes>"
      ],
      "image/png": "[encoded data removed]"
     },
     "metadata": {},
     "output_type": "display_data"
    }
   ],
   "execution_count": 40
  },
  {
   "metadata": {
    "ExecuteTime": {
     "end_time": "2025-05-21T10:36:52.633285Z",
     "start_time": "2025-05-21T10:36:52.576765Z"
    }
   },
   "cell_type": "code",
   "source": [
    "#Výpočet kľúčových metrík\n",
    "accuracy = accuracy_score(df_test['label'], df_test['prediction'])\n",
    "precision = precision_score(df_test['label'], df_test['prediction'], pos_label='real')\n",
    "recall = recall_score(df_test['label'], df_test['prediction'], pos_label='real')\n",
    "f1 = f1_score(df_test['label'], df_test['prediction'], pos_label='real')\n",
    "\n",
    "#Vytvorenie DataFramu pre metriky\n",
    "metrics = pd.DataFrame({\n",
    "    'Metric': ['Accuracy', 'Precision', 'Recall', 'F1-Score'],\n",
    "    'Value': [f\"{accuracy:.2f}\", f\"{precision:.2f}\", f\"{recall:.2f}\", f\"{f1:.2f}\"]\n",
    "})\n",
    "metrics"
   ],
   "id": "96f475727b82ecba",
   "outputs": [
    {
     "data": {
      "text/plain": [
       "      Metric Value\n",
       "0   Accuracy  0.96\n",
       "1  Precision  0.98\n",
       "2     Recall  0.94\n",
       "3   F1-Score  0.96"
      ],
      "text/html": [
       "<div>\n",
       "<style scoped>\n",
       "    .dataframe tbody tr th:only-of-type {\n",
       "        vertical-align: middle;\n",
       "    }\n",
       "\n",
       "    .dataframe tbody tr th {\n",
       "        vertical-align: top;\n",
       "    }\n",
       "\n",
       "    .dataframe thead th {\n",
       "        text-align: right;\n",
       "    }\n",
       "</style>\n",
       "<table border=\"1\" class=\"dataframe\">\n",
       "  <thead>\n",
       "    <tr style=\"text-align: right;\">\n",
       "      <th></th>\n",
       "      <th>Metric</th>\n",
       "      <th>Value</th>\n",
       "    </tr>\n",
       "  </thead>\n",
       "  <tbody>\n",
       "    <tr>\n",
       "      <th>0</th>\n",
       "      <td>Accuracy</td>\n",
       "      <td>0.96</td>\n",
       "    </tr>\n",
       "    <tr>\n",
       "      <th>1</th>\n",
       "      <td>Precision</td>\n",
       "      <td>0.98</td>\n",
       "    </tr>\n",
       "    <tr>\n",
       "      <th>2</th>\n",
       "      <td>Recall</td>\n",
       "      <td>0.94</td>\n",
       "    </tr>\n",
       "    <tr>\n",
       "      <th>3</th>\n",
       "      <td>F1-Score</td>\n",
       "      <td>0.96</td>\n",
       "    </tr>\n",
       "  </tbody>\n",
       "</table>\n",
       "</div>"
      ]
     },
     "execution_count": 41,
     "metadata": {},
     "output_type": "execute_result"
    }
   ],
   "execution_count": 41
  },
  {
   "metadata": {
    "ExecuteTime": {
     "end_time": "2025-05-21T10:37:39.129742Z",
     "start_time": "2025-05-21T10:37:39.101791Z"
    }
   },
   "cell_type": "code",
   "source": [
    "# Zobrazenie konfiguracnej tabulky\n",
    "confusion_matrix = confusion_matrix(df_test['label'], df_test['prediction'], labels=['fake', 'real'])\n",
    "\n",
    "confusion_matrix = pd.DataFrame(\n",
    "    confusion_matrix,\n",
    "    index=['True Fake', 'True Real'],\n",
    "    columns=['Predicted Fake', 'Predicted Real']\n",
    ")\n",
    "confusion_matrix"
   ],
   "id": "eaa18c0d063a90a7",
   "outputs": [
    {
     "data": {
      "text/plain": [
       "           Predicted Fake  Predicted Real\n",
       "True Fake             997              23\n",
       "True Real              62            1058"
      ],
      "text/html": [
       "<div>\n",
       "<style scoped>\n",
       "    .dataframe tbody tr th:only-of-type {\n",
       "        vertical-align: middle;\n",
       "    }\n",
       "\n",
       "    .dataframe tbody tr th {\n",
       "        vertical-align: top;\n",
       "    }\n",
       "\n",
       "    .dataframe thead th {\n",
       "        text-align: right;\n",
       "    }\n",
       "</style>\n",
       "<table border=\"1\" class=\"dataframe\">\n",
       "  <thead>\n",
       "    <tr style=\"text-align: right;\">\n",
       "      <th></th>\n",
       "      <th>Predicted Fake</th>\n",
       "      <th>Predicted Real</th>\n",
       "    </tr>\n",
       "  </thead>\n",
       "  <tbody>\n",
       "    <tr>\n",
       "      <th>True Fake</th>\n",
       "      <td>997</td>\n",
       "      <td>23</td>\n",
       "    </tr>\n",
       "    <tr>\n",
       "      <th>True Real</th>\n",
       "      <td>62</td>\n",
       "      <td>1058</td>\n",
       "    </tr>\n",
       "  </tbody>\n",
       "</table>\n",
       "</div>"
      ]
     },
     "execution_count": 42,
     "metadata": {},
     "output_type": "execute_result"
    }
   ],
   "execution_count": 42
  },
  {
   "metadata": {
    "ExecuteTime": {
     "end_time": "2025-05-21T10:37:50.403527Z",
     "start_time": "2025-05-21T10:37:50.279741Z"
    }
   },
   "cell_type": "code",
   "source": [
    "#Vizualizacia konfiguracnej tabulky\n",
    "plt.figure(figsize=(6, 4))\n",
    "sns.heatmap(confusion_matrix, annot=True, fmt='d', cmap='Blues', xticklabels=['fake', 'real'], yticklabels=['fake', 'real'])\n",
    "plt.title('Confusion Matrix')\n",
    "plt.xlabel('Prediction')\n",
    "plt.ylabel('Label')\n",
    "plt.show()"
   ],
   "id": "5240a3023e20337b",
   "outputs": [
    {
     "data": {
      "text/plain": [
       "<Figure size 600x400 with 2 Axes>"
      ],
      "image/png": "[encoded data removed]"
     },
     "metadata": {},
     "output_type": "display_data"
    }
   ],
   "execution_count": 43
  }
 ],
 "metadata": {
  "kernelspec": {
   "display_name": "Python 3",
   "language": "python",
   "name": "python3"
  },
  "language_info": {
   "codemirror_mode": {
    "name": "ipython",
    "version": 2
   },
   "file_extension": ".py",
   "mimetype": "text/x-python",
   "name": "python",
   "nbconvert_exporter": "python",
   "pygments_lexer": "ipython2",
   "version": "2.7.6"
  }
 },
 "nbformat": 4,
 "nbformat_minor": 5
}
