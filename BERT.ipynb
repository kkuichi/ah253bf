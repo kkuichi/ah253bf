{
 "cells": [
  {
   "metadata": {
    "ExecuteTime": {
     "end_time": "2025-05-18T12:26:43.525471Z",
     "start_time": "2025-05-18T12:26:39.399366Z"
    }
   },
   "cell_type": "code",
   "source": [
    "#Import knižníc\n",
    "import pandas as pd\n",
    "import re\n",
    "import torch\n",
    "from torch.utils.data import DataLoader, Dataset\n",
    "from transformers import BertTokenizer, BertModel\n",
    "from transformers.optimization import AdamW\n",
    "from sklearn.preprocessing import LabelEncoder"
   ],
   "id": "dacd05ef2ea12229",
   "outputs": [
    {
     "name": "stderr",
     "output_type": "stream",
     "text": [
      "/Users/annahavryliak/IdeaProjects/ZS2/pythonProject/.venv/lib/python3.12/site-packages/transformers/utils/generic.py:441: FutureWarning: `torch.utils._pytree._register_pytree_node` is deprecated. Please use `torch.utils._pytree.register_pytree_node` instead.\n",
      "  _torch_pytree._register_pytree_node(\n",
      "/Users/annahavryliak/IdeaProjects/ZS2/pythonProject/.venv/lib/python3.12/site-packages/transformers/utils/generic.py:309: FutureWarning: `torch.utils._pytree._register_pytree_node` is deprecated. Please use `torch.utils._pytree.register_pytree_node` instead.\n",
      "  _torch_pytree._register_pytree_node(\n"
     ]
    }
   ],
   "execution_count": 1
  },
  {
   "metadata": {
    "ExecuteTime": {
     "end_time": "2025-05-18T12:26:43.746937Z",
     "start_time": "2025-05-18T12:26:43.527568Z"
    }
   },
   "cell_type": "code",
   "source": [
    "# Stiahnutie dataset\n",
    "train_data = pd.read_csv('data/train.csv')\n",
    "val_data = pd.read_csv('data/val.csv')\n",
    "\n",
    "def clean_text(text):\n",
    "    #Previesť text na malé písmená\n",
    "    text = text.lower()\n",
    "    \n",
    "    #Odstránenie adries URL\n",
    "    text = re.sub(r'http\\S+', '', text)\n",
    "    \n",
    "    #Odstránenie hashtagov (iba symbol „#“, text ponechajte)\n",
    "    text = re.sub(r'#', '', text)\n",
    "    \n",
    "    #Odstránenie špeciálnych znakov a čísel\n",
    "    text = ''.join(c for c in text if c.isalnum() or c.isspace())\n",
    "    \n",
    "    #Odstránenie zbytočných medzier\n",
    "    text = re.sub(r'\\s+', ' ', text).strip()\n",
    "    \n",
    "    return text\n",
    "\n",
    "train_data['cleaned_tweet'] = train_data['tweet'].apply(clean_text)\n",
    "val_data['cleaned_tweet'] = val_data['tweet'].apply(clean_text)"
   ],
   "id": "c703f24d5c11ae93",
   "outputs": [],
   "execution_count": 2
  },
  {
   "metadata": {
    "ExecuteTime": {
     "end_time": "2025-05-18T12:26:43.752980Z",
     "start_time": "2025-05-18T12:26:43.748023Z"
    }
   },
   "cell_type": "code",
   "source": [
    "#Definovanie hyperparametrov\n",
    "MAX_LEN = 128\n",
    "BATCH_SIZE = 16\n",
    "EPOCHS = 10\n",
    "LEARNING_RATE = 2e-5"
   ],
   "id": "87aaa55f4c15912e",
   "outputs": [],
   "execution_count": 3
  },
  {
   "metadata": {
    "ExecuteTime": {
     "end_time": "2025-05-18T12:26:46.361314Z",
     "start_time": "2025-05-18T12:26:43.757028Z"
    }
   },
   "cell_type": "code",
   "source": [
    "#Stiahnutie tokenizéra a základného modelu BERT\n",
    "tokenizer = BertTokenizer.from_pretrained('bert-base-uncased')\n",
    "bert_model = BertModel.from_pretrained('bert-base-uncased')"
   ],
   "id": "a225895e63ff441b",
   "outputs": [
    {
     "name": "stderr",
     "output_type": "stream",
     "text": [
      "/Users/annahavryliak/IdeaProjects/ZS2/pythonProject/.venv/lib/python3.12/site-packages/huggingface_hub/file_download.py:896: FutureWarning: `resume_download` is deprecated and will be removed in version 1.0.0. Downloads always resume when possible. If you want to force a new download, use `force_download=True`.\n",
      "  warnings.warn(\n"
     ]
    }
   ],
   "execution_count": 4
  },
  {
   "metadata": {
    "ExecuteTime": {
     "end_time": "2025-05-18T12:26:46.376829Z",
     "start_time": "2025-05-18T12:26:46.368755Z"
    }
   },
   "cell_type": "code",
   "source": [
    "#Vytvorenie triedy pre dátasety\n",
    "class TweetDataset(Dataset):\n",
    "    def __init__(self, data, tokenizer, max_len):\n",
    "        self.data = data\n",
    "        self.tokenizer = tokenizer\n",
    "        self.max_len = max_len\n",
    "\n",
    "    def __len__(self):\n",
    "        return len(self.data)\n",
    "\n",
    "    def __getitem__(self, idx):\n",
    "        tweet = self.data.iloc[idx]['cleaned_tweet']\n",
    "        label = self.data.iloc[idx]['label']\n",
    "\n",
    "        #Tokenizácia textu\n",
    "        encoding = self.tokenizer.encode_plus(\n",
    "            tweet,\n",
    "            add_special_tokens=True,\n",
    "            max_length=self.max_len,\n",
    "            return_token_type_ids=False,\n",
    "            padding='max_length',\n",
    "            truncation=True,\n",
    "            return_attention_mask=True,\n",
    "            return_tensors='pt'\n",
    "        )\n",
    "\n",
    "        return {\n",
    "            'tweet': tweet,\n",
    "            'input_ids': encoding['input_ids'].flatten(),\n",
    "            'attention_mask': encoding['attention_mask'].flatten(),\n",
    "            'label': torch.tensor(label, dtype=torch.long)\n",
    "        }"
   ],
   "id": "de1fd1a23d9809fc",
   "outputs": [],
   "execution_count": 5
  },
  {
   "metadata": {
    "ExecuteTime": {
     "end_time": "2025-05-18T12:26:46.398003Z",
     "start_time": "2025-05-18T12:26:46.381417Z"
    }
   },
   "cell_type": "code",
   "source": [
    "#Previesť label (real -> 0, fake -> 1)\n",
    "label_encoder = LabelEncoder()\n",
    "train_data['label'] = label_encoder.fit_transform(train_data['label'])\n",
    "val_data['label'] = label_encoder.transform(val_data['label'])"
   ],
   "id": "1cfd4cadd4df6957",
   "outputs": [],
   "execution_count": 6
  },
  {
   "metadata": {
    "ExecuteTime": {
     "end_time": "2025-05-18T12:26:46.403816Z",
     "start_time": "2025-05-18T12:26:46.399127Z"
    }
   },
   "cell_type": "code",
   "source": [
    "#Vytváranie datasetov a súborov loadov\n",
    "train_dataset = TweetDataset(train_data, tokenizer, MAX_LEN)\n",
    "val_dataset = TweetDataset(val_data, tokenizer, MAX_LEN)\n",
    "\n",
    "train_loader = DataLoader(train_dataset, batch_size=BATCH_SIZE, shuffle=True)\n",
    "val_loader = DataLoader(val_dataset, batch_size=BATCH_SIZE)"
   ],
   "id": "5c32c0f6174bcf36",
   "outputs": [],
   "execution_count": 7
  },
  {
   "metadata": {
    "ExecuteTime": {
     "end_time": "2025-05-18T12:26:46.419544Z",
     "start_time": "2025-05-18T12:26:46.406301Z"
    }
   },
   "cell_type": "code",
   "source": [
    "#Vytváranie modelu\n",
    "class BERTClassifier(torch.nn.Module):\n",
    "    def __init__(self, bert_model, dropout=0.3):\n",
    "        super(BERTClassifier, self).__init__()\n",
    "        self.bert = bert_model\n",
    "        self.dropout = torch.nn.Dropout(dropout)\n",
    "        self.linear = torch.nn.Linear(768, 2)  # 2 класи: 0 - real, 1 - fake\n",
    "\n",
    "    def forward(self, input_ids, attention_mask):\n",
    "        _, pooled_output = self.bert(\n",
    "            input_ids=input_ids,\n",
    "            attention_mask=attention_mask,\n",
    "            return_dict=False\n",
    "        )\n",
    "        dropout_output = self.dropout(pooled_output)\n",
    "        linear_output = self.linear(dropout_output)\n",
    "        return linear_output\n",
    "\n",
    "model = BERTClassifier(bert_model)"
   ],
   "id": "e48041dc3dd08aa",
   "outputs": [],
   "execution_count": 8
  },
  {
   "metadata": {
    "ExecuteTime": {
     "end_time": "2025-05-18T12:26:46.429965Z",
     "start_time": "2025-05-18T12:26:46.422035Z"
    }
   },
   "cell_type": "code",
   "source": [
    "#Definícia zariadenia\n",
    "device = torch.device('cuda' if torch.cuda.is_available() else 'cpu')\n",
    "model = model.to(device)"
   ],
   "id": "fb1b0581ff0bc16d",
   "outputs": [],
   "execution_count": 9
  },
  {
   "metadata": {
    "ExecuteTime": {
     "end_time": "2025-05-18T12:26:47.394037Z",
     "start_time": "2025-05-18T12:26:46.435951Z"
    }
   },
   "cell_type": "code",
   "source": [
    "#Funkcia straty a optimalizátor\n",
    "criterion = torch.nn.CrossEntropyLoss()\n",
    "optimizer = AdamW(model.parameters(), lr=LEARNING_RATE)"
   ],
   "id": "677ee52abe1bff88",
   "outputs": [
    {
     "name": "stderr",
     "output_type": "stream",
     "text": [
      "/Users/annahavryliak/IdeaProjects/ZS2/pythonProject/.venv/lib/python3.12/site-packages/transformers/optimization.py:411: FutureWarning: This implementation of AdamW is deprecated and will be removed in a future version. Use the PyTorch implementation torch.optim.AdamW instead, or set `no_deprecation_warning=True` to disable this warning\n",
      "  warnings.warn(\n"
     ]
    }
   ],
   "execution_count": 10
  },
  {
   "metadata": {
    "ExecuteTime": {
     "end_time": "2025-05-18T12:26:47.405081Z",
     "start_time": "2025-05-18T12:26:47.395771Z"
    }
   },
   "cell_type": "code",
   "source": [
    "#Školenie modelu\n",
    "def train_epoch(model, data_loader, criterion, optimizer, device):\n",
    "    model.train()\n",
    "    total_loss = 0\n",
    "    correct_predictions = 0\n",
    "\n",
    "    for batch in data_loader:\n",
    "        input_ids = batch['input_ids'].to(device)\n",
    "        attention_mask = batch['attention_mask'].to(device)\n",
    "        labels = batch['label'].to(device)\n",
    "\n",
    "        outputs = model(input_ids=input_ids, attention_mask=attention_mask)\n",
    "        loss = criterion(outputs, labels)\n",
    "\n",
    "        _, preds = torch.max(outputs, dim=1)\n",
    "        correct_predictions += torch.sum(preds == labels)\n",
    "        total_loss += loss.item()\n",
    "\n",
    "        optimizer.zero_grad()\n",
    "        loss.backward()\n",
    "        optimizer.step()\n",
    "\n",
    "    return total_loss / len(data_loader), correct_predictions.double() / len(data_loader.dataset)"
   ],
   "id": "6d895b2769802307",
   "outputs": [],
   "execution_count": 11
  },
  {
   "metadata": {
    "ExecuteTime": {
     "end_time": "2025-05-18T12:26:47.410691Z",
     "start_time": "2025-05-18T12:26:47.406790Z"
    }
   },
   "cell_type": "code",
   "source": [
    "#Hodnotenie modelu\n",
    "def eval_model(model, data_loader, criterion, device):\n",
    "    model.eval()\n",
    "    total_loss = 0\n",
    "    correct_predictions = 0\n",
    "\n",
    "    with torch.no_grad():\n",
    "        for batch in data_loader:\n",
    "            input_ids = batch['input_ids'].to(device)\n",
    "            attention_mask = batch['attention_mask'].to(device)\n",
    "            labels = batch['label'].to(device)\n",
    "\n",
    "            outputs = model(input_ids=input_ids, attention_mask=attention_mask)\n",
    "            loss = criterion(outputs, labels)\n",
    "\n",
    "            _, preds = torch.max(outputs, dim=1)\n",
    "            correct_predictions += torch.sum(preds == labels)\n",
    "            total_loss += loss.item()\n",
    "\n",
    "    return total_loss / len(data_loader), correct_predictions.double() / len(data_loader.dataset)"
   ],
   "id": "44d16a986c6d6e13",
   "outputs": [],
   "execution_count": 12
  },
  {
   "metadata": {
    "ExecuteTime": {
     "end_time": "2025-05-18T21:05:45.299689Z",
     "start_time": "2025-05-18T12:26:47.412778Z"
    }
   },
   "cell_type": "code",
   "source": [
    "#Tréning pre 10 epoch\n",
    "best_accuracy = 0\n",
    "for epoch in range(EPOCHS):\n",
    "    print(f'Epoch {epoch + 1}/{EPOCHS}')\n",
    "    train_loss, train_acc = train_epoch(model, train_loader, criterion, optimizer, device)\n",
    "    print(f'Train loss: {train_loss:.4f}, Train accuracy: {train_acc:.4f}')\n",
    "\n",
    "    val_loss, val_acc = eval_model(model, val_loader, criterion, device)\n",
    "    print(f'Validation loss: {val_loss:.4f}, Validation accuracy: {val_acc:.4f}')\n",
    "\n",
    "    if val_acc > best_accuracy:\n",
    "        torch.save(model.state_dict(), 'best_bert_model.pth')\n",
    "        best_accuracy = val_acc"
   ],
   "id": "56567907bb60f178",
   "outputs": [
    {
     "name": "stdout",
     "output_type": "stream",
     "text": [
      "Epoch 1/10\n",
      "Train loss: 0.2583, Train accuracy: 0.8975\n",
      "Validation loss: 0.1931, Validation accuracy: 0.9262\n",
      "Epoch 2/10\n",
      "Train loss: 0.0924, Train accuracy: 0.9698\n",
      "Validation loss: 0.1738, Validation accuracy: 0.9435\n",
      "Epoch 3/10\n",
      "Train loss: 0.0436, Train accuracy: 0.9877\n",
      "Validation loss: 0.1673, Validation accuracy: 0.9528\n",
      "Epoch 4/10\n",
      "Train loss: 0.0260, Train accuracy: 0.9917\n",
      "Validation loss: 0.1851, Validation accuracy: 0.9533\n",
      "Epoch 5/10\n",
      "Train loss: 0.0083, Train accuracy: 0.9978\n",
      "Validation loss: 0.2210, Validation accuracy: 0.9547\n",
      "Epoch 6/10\n",
      "Train loss: 0.0151, Train accuracy: 0.9953\n",
      "Validation loss: 0.2374, Validation accuracy: 0.9449\n",
      "Epoch 7/10\n",
      "Train loss: 0.0105, Train accuracy: 0.9964\n",
      "Validation loss: 0.2033, Validation accuracy: 0.9537\n",
      "Epoch 8/10\n",
      "Train loss: 0.0085, Train accuracy: 0.9977\n",
      "Validation loss: 0.2291, Validation accuracy: 0.9486\n",
      "Epoch 9/10\n",
      "Train loss: 0.0073, Train accuracy: 0.9980\n",
      "Validation loss: 0.2366, Validation accuracy: 0.9542\n",
      "Epoch 10/10\n",
      "Train loss: 0.0100, Train accuracy: 0.9996\n",
      "Validation loss: 0.2375, Validation accuracy: 0.9500\n"
     ]
    }
   ],
   "execution_count": 13
  }
 ],
 "metadata": {
  "kernelspec": {
   "display_name": "Python 3",
   "language": "python",
   "name": "python3"
  },
  "language_info": {
   "codemirror_mode": {
    "name": "ipython",
    "version": 2
   },
   "file_extension": ".py",
   "mimetype": "text/x-python",
   "name": "python",
   "nbconvert_exporter": "python",
   "pygments_lexer": "ipython2",
   "version": "2.7.6"
  }
 },
 "nbformat": 4,
 "nbformat_minor": 5
}
